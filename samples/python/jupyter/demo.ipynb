{
 "cells": [
  {
   "cell_type": "code",
   "execution_count": 1,
   "metadata": {},
   "outputs": [],
   "source": [
    "# Import necessary modules\n",
    "from strathweb_phi_engine import *\n",
    "import os"
   ]
  },
  {
   "cell_type": "code",
   "execution_count": 2,
   "metadata": {},
   "outputs": [],
   "source": [
    "# Setup inference options\n",
    "inference_options_builder = InferenceOptionsBuilder()\n",
    "inference_options_builder.with_temperature(temperature=0.9)\n",
    "inference_options_builder.with_seed(seed=146628346)\n",
    "inference_options = inference_options_builder.build()\n",
    "\n",
    "cache_dir = os.path.join(os.getcwd(), \".cache\")"
   ]
  },
  {
   "cell_type": "code",
   "execution_count": 3,
   "metadata": {},
   "outputs": [],
   "source": [
    "# Define the event handler class\n",
    "class ModelEventsHandler(PhiEventHandler):\n",
    "    def on_inference_token(self, token: str):\n",
    "        print(token, end=\"\")\n",
    "\n",
    "    def on_inference_started(self):\n",
    "        pass\n",
    "\n",
    "    def on_inference_ended(self):\n",
    "        pass\n",
    "\n",
    "    def on_model_loaded(self):\n",
    "        print(\"\"\"\n",
    " 🧠 Model loaded!\n",
    "****************************************\n",
    "\"\"\")"
   ]
  },
  {
   "cell_type": "code",
   "execution_count": null,
   "metadata": {},
   "outputs": [
    {
     "name": "stdout",
     "output_type": "stream",
     "text": [
      "\n",
      " 🧠 Model loaded!\n",
      "****************************************\n",
      "\n"
     ]
    }
   ],
   "source": [
    "# Build the model\n",
    "# This might be slow when it downloads the model for the first time\n",
    "model_builder = PhiEngineBuilder()\n",
    "model_builder.with_event_handler(event_handler=ModelEventsHandler())\n",
    "gpu_enabled = model_builder.try_use_gpu()\n",
    "model = model_builder.build_stateful(cache_dir=cache_dir, system_instruction=\"You are a hockey poet\")"
   ]
  },
  {
   "cell_type": "code",
   "execution_count": 5,
   "metadata": {},
   "outputs": [
    {
     "name": "stdout",
     "output_type": "stream",
     "text": [
      "Frozen pitch we skate,\n",
      "\n",
      "Pucks dance, sticks clash, fans cheer loud,\n",
      "\n",
      "Winter's war fierce play"
     ]
    }
   ],
   "source": [
    "# Cell 5: Run inference\n",
    "result = model.run_inference(prompt_text=\"Write a haiku about ice hockey\", inference_options=inference_options)"
   ]
  },
  {
   "cell_type": "code",
   "execution_count": 6,
   "metadata": {},
   "outputs": [
    {
     "name": "stdout",
     "output_type": "stream",
     "text": [
      "\n",
      "\n",
      "****************************************\n",
      " 📝 Tokens Generated: 33\n",
      " 🖥️ Tokens per second: 21.921384071018906\n",
      " ⏱️ Duration: 1.5053794s\n",
      " 🏎️ GPU enabled: False\n",
      "\n"
     ]
    }
   ],
   "source": [
    "# Cell 6: Print the results\n",
    "print(f\"\"\"\n",
    "\n",
    "****************************************\n",
    " 📝 Tokens Generated: {result.token_count}\n",
    " 🖥️ Tokens per second: {result.tokens_per_second}\n",
    " ⏱️ Duration: {result.duration}s\n",
    " 🏎️ GPU enabled: {gpu_enabled}\n",
    "\"\"\")"
   ]
  }
 ],
 "metadata": {
  "kernelspec": {
   "display_name": "Python 3",
   "language": "python",
   "name": "python3"
  },
  "language_info": {
   "codemirror_mode": {
    "name": "ipython",
    "version": 3
   },
   "file_extension": ".py",
   "mimetype": "text/x-python",
   "name": "python",
   "nbconvert_exporter": "python",
   "pygments_lexer": "ipython3",
   "version": "3.12.4"
  }
 },
 "nbformat": 4,
 "nbformat_minor": 2
}
